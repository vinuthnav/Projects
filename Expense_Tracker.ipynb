{
 "cells": [
  {
   "cell_type": "code",
   "execution_count": null,
   "id": "13ab7f1a-8fb8-43b9-b348-09120dbb0e26",
   "metadata": {},
   "outputs": [
    {
     "name": "stdout",
     "output_type": "stream",
     "text": [
      "\n",
      "Expense Tracker\n",
      "1. Add Expense\n",
      "2. View Expenses\n",
      "3. View Total Expense\n",
      "4. Exit\n"
     ]
    },
    {
     "name": "stdin",
     "output_type": "stream",
     "text": [
      "Choose an option (1-4):  1\n",
      "Enter the category of expense (e.g., groceries, entertainment):  Junk Food\n",
      "Enter the amount spent:  200\n"
     ]
    },
    {
     "name": "stdout",
     "output_type": "stream",
     "text": [
      "Expense of 200.0 added to junk food.\n",
      "\n",
      "Expense Tracker\n",
      "1. Add Expense\n",
      "2. View Expenses\n",
      "3. View Total Expense\n",
      "4. Exit\n"
     ]
    }
   ],
   "source": [
    "import os\n",
    "import json\n",
    "\n",
    "# File to store expenses\n",
    "EXPENSES_FILE = \"expenses.json\"\n",
    "\n",
    "# Function to load expenses from the file\n",
    "def load_expenses():\n",
    "    if os.path.exists(EXPENSES_FILE):\n",
    "        with open(EXPENSES_FILE, 'r') as file:\n",
    "            return json.load(file)\n",
    "    return {}\n",
    "\n",
    "# Function to save expenses to the file\n",
    "def save_expenses(expenses):\n",
    "    with open(EXPENSES_FILE, 'w') as file:\n",
    "        json.dump(expenses, file, indent=4)\n",
    "\n",
    "# Function to add a new expense\n",
    "def add_expense(expenses):\n",
    "    category = input(\"Enter the category of expense (e.g., groceries, entertainment): \").lower()\n",
    "    try:\n",
    "        amount = float(input(\"Enter the amount spent: \"))\n",
    "    except ValueError:\n",
    "        print(\"Invalid input. Please enter a valid number.\")\n",
    "        return\n",
    "    \n",
    "    # Update the expense for the category\n",
    "    if category in expenses:\n",
    "        expenses[category] += amount\n",
    "    else:\n",
    "        expenses[category] = amount\n",
    "    \n",
    "    save_expenses(expenses)\n",
    "    print(f\"Expense of {amount} added to {category}.\")\n",
    "\n",
    "# Function to view all expenses\n",
    "def view_expenses(expenses):\n",
    "    if not expenses:\n",
    "        print(\"No expenses recorded.\")\n",
    "    else:\n",
    "        print(\"\\nExpense Summary:\")\n",
    "        total = 0\n",
    "        for category, amount in expenses.items():\n",
    "            print(f\"{category.capitalize()}: ${amount:.2f}\")\n",
    "            total += amount\n",
    "        print(f\"Total expenses: Rs/-{total:.2f}\")\n",
    "\n",
    "# Function to view the total expense\n",
    "def view_total(expenses):\n",
    "    total = sum(expenses.values())\n",
    "    print(f\"\\nTotal Expenses: ${total:.2f}\")\n",
    "\n",
    "# Main function to run the app\n",
    "def main():\n",
    "    expenses = load_expenses()\n",
    "\n",
    "    while True:\n",
    "        print(\"\\nExpense Tracker\")\n",
    "        print(\"1. Add Expense\")\n",
    "        print(\"2. View Expenses\")\n",
    "        print(\"3. View Total Expense\")\n",
    "        print(\"4. Exit\")\n",
    "        \n",
    "        try:\n",
    "            choice = int(input(\"Choose an option (1-4): \"))\n",
    "            if choice == 1:\n",
    "                add_expense(expenses)\n",
    "            elif choice == 2:\n",
    "                view_expenses(expenses)\n",
    "            elif choice == 3:\n",
    "                view_total(expenses)\n",
    "            elif choice == 4:\n",
    "                print(\"Exiting the app...\")\n",
    "                break\n",
    "            else:\n",
    "                print(\"Invalid choice. Please choose a number between 1 and 4.\")\n",
    "        except ValueError:\n",
    "            print(\"Invalid input. Please enter a number between 1 and 4.\")\n",
    "\n",
    "if __name__ == \"__main__\":\n",
    "    main()\n"
   ]
  }
 ],
 "metadata": {
  "kernelspec": {
   "display_name": "Python 3 (ipykernel)",
   "language": "python",
   "name": "python3"
  },
  "language_info": {
   "codemirror_mode": {
    "name": "ipython",
    "version": 3
   },
   "file_extension": ".py",
   "mimetype": "text/x-python",
   "name": "python",
   "nbconvert_exporter": "python",
   "pygments_lexer": "ipython3",
   "version": "3.12.7"
  }
 },
 "nbformat": 4,
 "nbformat_minor": 5
}
